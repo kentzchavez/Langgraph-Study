{
 "cells": [
  {
   "cell_type": "code",
   "execution_count": null,
   "id": "ca7e6b2d",
   "metadata": {},
   "outputs": [],
   "source": [
    "from typing import Annotated\n",
    "from typing_extensions import TypedDict\n",
    "\n",
    "from langgraph.graph import StateGraph, START, END\n",
    "from langgraph.graph.message import add_messages\n",
    "\n",
    "from langchain_google_genai import ChatGoogleGenerativeAI\n",
    "from langchain_groq import ChatGroq\n",
    "\n",
    "from IPython.display import Image, display\n",
    "\n",
    "import os\n",
    "from dotenv import load_dotenv"
   ]
  },
  {
   "cell_type": "code",
   "execution_count": 9,
   "id": "3df80fce",
   "metadata": {},
   "outputs": [],
   "source": [
    "# Load .env file\n",
    "load_dotenv()\n",
    "\n",
    "# Initialize State \n",
    "class State(TypedDict):\n",
    "    messages: Annotated[list, add_messages]"
   ]
  },
  {
   "cell_type": "markdown",
   "id": "4497dcd1",
   "metadata": {},
   "source": [
    "### LLMs"
   ]
  },
  {
   "cell_type": "code",
   "execution_count": 10,
   "id": "2720b094",
   "metadata": {},
   "outputs": [],
   "source": [
    "# LLMs\n",
    "llm_google = ChatGoogleGenerativeAI(model='gemini-2.5-flash-lite')\n",
    "llm_groq = ChatGroq(model='llama3-8b-8192')\n",
    "\n",
    "llm = llm_google # Set default llm"
   ]
  },
  {
   "cell_type": "code",
   "execution_count": 11,
   "id": "bee40a19",
   "metadata": {},
   "outputs": [],
   "source": [
    "\n",
    "# Chatbot\n",
    "def chatbot(state:State):\n",
    "    return {\"messages\": [llm.invoke(state[\"messages\"])]}"
   ]
  },
  {
   "cell_type": "markdown",
   "id": "580dd071",
   "metadata": {},
   "source": [
    "### GRAPH"
   ]
  },
  {
   "cell_type": "code",
   "execution_count": 12,
   "id": "c41f59de",
   "metadata": {},
   "outputs": [],
   "source": [
    "'''\n",
    "BUUILDING THE GRAPH\n",
    "'''\n",
    "graph_builder = StateGraph(State)\n",
    "\n",
    "# Nodes\n",
    "graph_builder.add_node(\"chat\", chatbot)\n",
    "\n",
    "# Edges\n",
    "graph_builder.add_edge(START, \"chat\")\n",
    "graph_builder.add_edge(\"chat\", END)\n",
    "\n",
    "# Compile\n",
    "graph = graph_builder.compile()"
   ]
  },
  {
   "cell_type": "markdown",
   "id": "dee341c3",
   "metadata": {},
   "source": [
    "### Visualize Graph"
   ]
  },
  {
   "cell_type": "code",
   "execution_count": null,
   "id": "5234cef5",
   "metadata": {},
   "outputs": [
    {
     "data": {
      "image/png": "[encoded data removed]",
      "text/plain": [
       "<IPython.core.display.Image object>"
      ]
     },
     "metadata": {},
     "output_type": "display_data"
    }
   ],
   "source": [
    "def display_graph():\n",
    "    try:\n",
    "        display(Image(graph.get_graph().draw_mermaid_png()))\n",
    "    except Exception as e:\n",
    "        print(f\"Error displaying graph: {e}\")\n",
    "\n",
    "display_graph()\n"
   ]
  },
  {
   "cell_type": "markdown",
   "id": "5acf6345",
   "metadata": {},
   "source": [
    "### Execute"
   ]
  },
  {
   "cell_type": "code",
   "execution_count": null,
   "id": "0a228cb7",
   "metadata": {},
   "outputs": [
    {
     "name": "stdout",
     "output_type": "stream",
     "text": [
      "{'messages': [HumanMessage(content='Hey Google!', additional_kwargs={}, response_metadata={}, id='90805133-49bb-4797-b754-200dec24b780'), AIMessage(content='Hello there! How can I help you today?', additional_kwargs={}, response_metadata={'prompt_feedback': {'block_reason': 0, 'safety_ratings': []}, 'finish_reason': 'STOP', 'model_name': 'gemini-2.5-flash-lite', 'safety_ratings': []}, id='run--80d4399f-7d1d-48b5-8224-540428766104-0', usage_metadata={'input_tokens': 4, 'output_tokens': 10, 'total_tokens': 14, 'input_token_details': {'cache_read': 0}})]}\n"
     ]
    }
   ],
   "source": [
    "response = graph.invoke({\"messages\": \"Hey Google!\"})\n",
    "print(response['messages'][-1])"
   ]
  },
  {
   "cell_type": "code",
   "execution_count": null,
   "id": "17e30ed0",
   "metadata": {},
   "outputs": [
    {
     "name": "stdout",
     "output_type": "stream",
     "text": [
      "content='Hello there! How can I help you today?' additional_kwargs={} response_metadata={'prompt_feedback': {'block_reason': 0, 'safety_ratings': []}, 'finish_reason': 'STOP', 'model_name': 'gemini-2.5-flash-lite', 'safety_ratings': []} id='run--80d4399f-7d1d-48b5-8224-540428766104-0' usage_metadata={'input_tokens': 4, 'output_tokens': 10, 'total_tokens': 14, 'input_token_details': {'cache_read': 0}}\n"
     ]
    }
   ],
   "source": [
    "print(response['messages'][-1].content)"
   ]
  }
 ],
 "metadata": {
  "kernelspec": {
   "display_name": ".venv",
   "language": "python",
   "name": "python3"
  },
  "language_info": {
   "codemirror_mode": {
    "name": "ipython",
    "version": 3
   },
   "file_extension": ".py",
   "mimetype": "text/x-python",
   "name": "python",
   "nbconvert_exporter": "python",
   "pygments_lexer": "ipython3",
   "version": "3.13.5"
  }
 },
 "nbformat": 4,
 "nbformat_minor": 5
}
