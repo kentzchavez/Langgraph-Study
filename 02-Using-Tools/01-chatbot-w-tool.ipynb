{
 "cells": [
  {
   "cell_type": "code",
   "execution_count": 27,
   "id": "ca7e6b2d",
   "metadata": {},
   "outputs": [],
   "source": [
    "from typing import Annotated\n",
    "from typing_extensions import TypedDict\n",
    "\n",
    "from langgraph.graph import StateGraph, START, END\n",
    "from langgraph.graph.message import add_messages\n",
    "from langgraph.prebuilt import ToolNode, tools_condition\n",
    "\n",
    "from langchain_google_genai import ChatGoogleGenerativeAI\n",
    "from langchain_groq import ChatGroq\n",
    "\n",
    "from IPython.display import Image, display\n",
    "\n",
    "import os\n",
    "from dotenv import load_dotenv\n",
    "\n",
    "from langchain_tavily import TavilySearch"
   ]
  },
  {
   "cell_type": "code",
   "execution_count": 2,
   "id": "3df80fce",
   "metadata": {},
   "outputs": [],
   "source": [
    "# Load .env file\n",
    "load_dotenv()\n",
    "\n",
    "# Initialize State \n",
    "class State(TypedDict):\n",
    "    messages: Annotated[list, add_messages]"
   ]
  },
  {
   "cell_type": "markdown",
   "id": "4497dcd1",
   "metadata": {},
   "source": [
    "### LLMs"
   ]
  },
  {
   "cell_type": "code",
   "execution_count": 3,
   "id": "2720b094",
   "metadata": {},
   "outputs": [],
   "source": [
    "# LLMs\n",
    "llm_google = ChatGoogleGenerativeAI(model='gemini-2.5-flash-lite')\n",
    "llm_groq = ChatGroq(model='llama3-8b-8192')\n",
    "\n",
    "llm = llm_google # Set default llm"
   ]
  },
  {
   "cell_type": "markdown",
   "id": "104a0ffc",
   "metadata": {},
   "source": [
    "### TOOLS"
   ]
  },
  {
   "cell_type": "code",
   "execution_count": 17,
   "id": "6a3921e4",
   "metadata": {},
   "outputs": [
    {
     "data": {
      "text/plain": [
       "{'query': 'Agentic AI for beginners',\n",
       " 'follow_up_questions': None,\n",
       " 'answer': None,\n",
       " 'images': [],\n",
       " 'results': [{'url': 'https://www.youtube.com/watch?v=CnXdddeZ4tQ',\n",
       "   'title': 'Agentic AI Tutorial for Beginners | Langgraph Tutorial - YouTube',\n",
       "   'content': \"Agentic AI Tutorial for Beginners | Langgraph Tutorial\\ncodebasics\\n1370000 subscribers\\n2217 likes\\n108549 views\\n27 Jun 2025\\nLearn Agentic AI using a popular framework langgraph. In this agenti ai tutorial for beginners, we will start with agentic AI basics and then we will dive deeper into langgraph by covering a wide range of topics.\\n\\n👉 Check out PyCharm, the IDE built for data science and AI/ML professionals: https://jb.gg/try-pycharm-now\\n\\n👉 Download PyCharm and use it for free forever, plus a one-month Pro subscription is included. \\n\\nCode: https://github.com/codebasics/langgraph-crash-course\\n\\n00:00 Introduction \\n00:40 Agentic AI Basics\\n00:00 What is Langgraph\\n07:41 Langchain vs Langgraph\\n13:08 Installation and Setup\\n19:00 Simple Graph \\n31:36 Graph with Condition \\n36:55 Chatbot in Langgraph \\n45:38 Chatbot with Tool \\n56:03 Memory \\n1:05:05 Tracing with Langsmith \\n1:10:11 Human in the Loop \\n\\nDo you want to learn technology from me? Check https://codebasics.io/?utm_source=description&utm_medium=yt&utm_campaign=description&utm_id=description for my affordable video courses.\\n\\nNeed help building software or data analytics/AI solutions? My company https://www.atliq.com/ can help. Click on the Contact button on that website.\\n\\n🎥 Codebasics Hindi channel: https://www.youtube.com/channel/UCTmFBhuhMibVoSfYom1uXEg\\n\\n#️⃣ Social Media #️⃣\\n\\n🧑\\u200d🤝\\u200d🧑 Discord for Community Support:  https://discord.gg/r42Kbuk\\n📸 Codebasics' Instagram: https://www.instagram.com/codebasicshub/\\n📝 Codebasics' Linkedin :  https://www.linkedin.com/company/codebasics/\\n\\n------\\n\\n📝 Dhaval's Linkedin : https://www.linkedin.com/in/dhavalsays/\\n📝 Hem's Linkedin: https://www.linkedin.com/in/hemvad/\\n\\n📽️ Hem's Instagram for daily tips: https://www.instagram.com/hemvadivel/\\n📸 Dhaval's Personal Instagram: https://www.instagram.com/dhavalsays/\\n\\n🔗 Patreon: https://www.patreon.com/codebasics?fan_landing=true\\n125 comments\\n\",\n",
       "   'score': 0.8593928,\n",
       "   'raw_content': None},\n",
       "  {'url': 'https://maven.com/noelleai/agenticai',\n",
       "   'title': 'Agentic AI For Beginners by Noelle Russell, Skye Mann ... - Maven',\n",
       "   'content': 'Step into the future of artificial intelligence with our 5-week cohort-based course on Agentic AI. ### Agentic AI Course Kickoff ### Agentic AI Q&A - Session 1 ### Agentic AI Q&A - Session 4 ### Agentic AI Q&A - Session 5 This course was an empowering introduction to Agentic AI, blending real-world application with foundational principles like autonomy, reasoning, and trustworthy design. This course teaches you how to build and deploy powerful AI Agents using tools like LangChain, Agentic RAG, MCP - skills in high demand. This course teaches you how to build and deploy powerful AI Agents using tools like LangChain, Agentic RAG, MCP - skills in high demand.',\n",
       "   'score': 0.84215075,\n",
       "   'raw_content': None}],\n",
       " 'response_time': 1.49,\n",
       " 'request_id': '730695e3-fb7f-471f-a0b5-c777fe9e663c'}"
      ]
     },
     "execution_count": 17,
     "metadata": {},
     "output_type": "execute_result"
    }
   ],
   "source": [
    "search_tool = TavilySearch(max_results=2)\n",
    "search_tool.invoke(\"Agentic AI for beginners\")"
   ]
  },
  {
   "cell_type": "code",
   "execution_count": 18,
   "id": "329b9a7a",
   "metadata": {},
   "outputs": [],
   "source": [
    "# Tool creation using a custom function\n",
    "def calculate_bill_split(total_bill: float, num_people: int, tip_percentage: int) -> float:\n",
    "    \"\"\"\n",
    "    Calculates the split amount for each person in the bill including the tip.\n",
    "    \n",
    "    Args:\n",
    "        total_bill (float): The total bill amount.\n",
    "        num_people (int): The number of people sharing the bill.\n",
    "        tip_percentage (int): The tip percentage to be added to the bill.\n",
    "    \n",
    "    Returns:\n",
    "        float: The amount each person needs to pay.\n",
    "        \n",
    "    \"\"\"\n",
    "    if num_people == 0:\n",
    "        return 0.0\n",
    "    total_with_tip = total_bill + (total_bill * tip_percentage / 100)\n",
    "    return total_with_tip / num_people  "
   ]
  },
  {
   "cell_type": "code",
   "execution_count": 19,
   "id": "c2ad61a7",
   "metadata": {},
   "outputs": [],
   "source": [
    "tools = [search_tool, calculate_bill_split]"
   ]
  },
  {
   "cell_type": "code",
   "execution_count": 20,
   "id": "f8dc54b1",
   "metadata": {},
   "outputs": [],
   "source": [
    "# binding llm with tools\n",
    "llm_with_tools = llm.bind_tools(tools)"
   ]
  },
  {
   "cell_type": "markdown",
   "id": "933cd84d",
   "metadata": {},
   "source": [
    "### GRAPH"
   ]
  },
  {
   "cell_type": "code",
   "execution_count": 21,
   "id": "ee12be4c",
   "metadata": {},
   "outputs": [],
   "source": [
    "def tool_calling_llm(state: State):\n",
    "    return {\"messages\": [llm_with_tools.invoke(state['messages'])]}"
   ]
  },
  {
   "cell_type": "code",
   "execution_count": 29,
   "id": "d47a2f66",
   "metadata": {},
   "outputs": [],
   "source": [
    "'''\n",
    "BUUILDING THE GRAPH\n",
    "'''\n",
    "graph_builder = StateGraph(State)\n",
    "\n",
    "# Nodes\n",
    "graph_builder.add_node(\"tool_call_llm\", tool_calling_llm)\n",
    "graph_builder.add_node(\"tools\", ToolNode(tools))\n",
    "\n",
    "# Edges\n",
    "graph_builder.add_edge(START, \"tool_call_llm\")\n",
    "graph_builder.add_conditional_edges(\n",
    "    \"tool_call_llm\",\n",
    "    tools_condition\n",
    "    \n",
    ")\n",
    "graph_builder.add_edge(\"tools\", END)\n",
    "\n",
    "# Compile\n",
    "graph = graph_builder.compile()"
   ]
  },
  {
   "cell_type": "code",
   "execution_count": 31,
   "id": "b18c1404",
   "metadata": {},
   "outputs": [
    {
     "data": {
      "image/png": "[encoded data removed]",
      "text/plain": [
       "<IPython.core.display.Image object>"
      ]
     },
     "metadata": {},
     "output_type": "display_data"
    }
   ],
   "source": [
    "#visualize Graph\n",
    "def display_graph():\n",
    "    try:\n",
    "        display(Image(graph.get_graph().draw_mermaid_png()))\n",
    "    except Exception as e:\n",
    "        print(f\"Error displaying graph: {e}\")\n",
    "\n",
    "display_graph()\n"
   ]
  },
  {
   "cell_type": "markdown",
   "id": "5acf6345",
   "metadata": {},
   "source": [
    "### Execute"
   ]
  },
  {
   "cell_type": "code",
   "execution_count": 33,
   "id": "0a228cb7",
   "metadata": {},
   "outputs": [
    {
     "name": "stdout",
     "output_type": "stream",
     "text": [
      "[HumanMessage(content='How much do we have to split for our 53.98 USD bill if there are 4 of us and we want to tip 15%?', additional_kwargs={}, response_metadata={}, id='7d88b633-23c8-4a71-be4c-e1755fe0ef01'), AIMessage(content='', additional_kwargs={'function_call': {'name': 'calculate_bill_split', 'arguments': '{\"total_bill\": 53.98, \"tip_percentage\": 15.0, \"num_people\": 4.0}'}}, response_metadata={'prompt_feedback': {'block_reason': 0, 'safety_ratings': []}, 'finish_reason': 'STOP', 'model_name': 'gemini-2.5-flash-lite', 'safety_ratings': []}, id='run--b98f1311-bf68-45a6-ba5d-b11800260ddb-0', tool_calls=[{'name': 'calculate_bill_split', 'args': {'total_bill': 53.98, 'tip_percentage': 15.0, 'num_people': 4.0}, 'id': '3167b6c4-fd56-4811-b26b-6d8215a22aa5', 'type': 'tool_call'}], usage_metadata={'input_tokens': 1377, 'output_tokens': 38, 'total_tokens': 1415, 'input_token_details': {'cache_read': 0}}), ToolMessage(content='15.51925', name='calculate_bill_split', id='a93ebd3d-f3cf-47b9-b75e-c729dac08596', tool_call_id='3167b6c4-fd56-4811-b26b-6d8215a22aa5')]\n"
     ]
    }
   ],
   "source": [
    "response = graph.invoke({\"messages\": \"How much do we have to split for our 53.98 USD bill if there are 4 of us and we want to tip 15%?\"})\n",
    "print(response['messages'])"
   ]
  },
  {
   "cell_type": "code",
   "execution_count": 34,
   "id": "4b916e18",
   "metadata": {},
   "outputs": [
    {
     "name": "stdout",
     "output_type": "stream",
     "text": [
      "{\"query\": \"land mass of USA\", \"follow_up_questions\": null, \"answer\": null, \"images\": [], \"results\": [{\"url\": \"https://data.census.gov/profile\", \"title\": \"Census Bureau Profiles Results\", \"content\": \"A **.gov** website belongs to an official government organization in the United States. Image 5: United States Census Bureau - Census Data Homepage The United States has a total area of 3,809,525 square miles, encompassing 3,532,316 square miles of land and 277,209 square miles of water, placing it among the five largest nations in terms of area. The United States has a total area of 3,809,525 square miles, encompassing 3,532,316 square miles of land and 277,209 square miles of water, placing it among the five largest nations in terms of area. Based on searching data.census.gov, I trust the information the U.S. Census Bureau is providing. Based on searching data.census.gov, I trust the information the U.S. Census Bureau is providing.\", \"score\": 0.6786044, \"raw_content\": null}, {\"url\": \"https://en.wikipedia.org/wiki/United_States\", \"title\": \"United States - Wikipedia\", \"content\": \"United States ; 7.0 (2010) · 3,531,905 sq mi (9,147,590 km2) (3rd) · Neutral increase 340,110,988.\", \"score\": 0.67243975, \"raw_content\": null}], \"response_time\": 0.74, \"request_id\": \"361ac519-cda3-4a77-b889-7febc2eaee28\"}\n"
     ]
    }
   ],
   "source": [
    "response = graph.invoke({\"messages\": \"How big is the land mass of USA?\"})\n",
    "print(response['messages'][-1].content)"
   ]
  },
  {
   "cell_type": "code",
   "execution_count": null,
   "id": "17e30ed0",
   "metadata": {},
   "outputs": [],
   "source": [
    "for m in response['messages']:\n",
    "    m.pretty_print()"
   ]
  }
 ],
 "metadata": {
  "kernelspec": {
   "display_name": ".venv",
   "language": "python",
   "name": "python3"
  },
  "language_info": {
   "codemirror_mode": {
    "name": "ipython",
    "version": 3
   },
   "file_extension": ".py",
   "mimetype": "text/x-python",
   "name": "python",
   "nbconvert_exporter": "python",
   "pygments_lexer": "ipython3",
   "version": "3.13.5"
  }
 },
 "nbformat": 4,
 "nbformat_minor": 5
}
