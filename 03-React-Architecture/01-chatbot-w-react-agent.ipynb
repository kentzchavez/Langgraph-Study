{
 "cells": [
  {
   "cell_type": "code",
   "execution_count": 1,
   "id": "ca7e6b2d",
   "metadata": {},
   "outputs": [],
   "source": [
    "from typing import Annotated\n",
    "from typing_extensions import TypedDict\n",
    "\n",
    "from langgraph.graph import StateGraph, START, END\n",
    "from langgraph.graph.message import add_messages\n",
    "from langgraph.prebuilt import ToolNode, tools_condition\n",
    "\n",
    "from langchain_google_genai import ChatGoogleGenerativeAI\n",
    "from langchain_groq import ChatGroq\n",
    "\n",
    "from IPython.display import Image, display\n",
    "\n",
    "import os\n",
    "from dotenv import load_dotenv\n",
    "\n",
    "from langchain_tavily import TavilySearch"
   ]
  },
  {
   "cell_type": "code",
   "execution_count": 2,
   "id": "3df80fce",
   "metadata": {},
   "outputs": [],
   "source": [
    "# Load .env file\n",
    "load_dotenv()\n",
    "\n",
    "# Initialize State \n",
    "class State(TypedDict):\n",
    "    messages: Annotated[list, add_messages]"
   ]
  },
  {
   "cell_type": "markdown",
   "id": "4497dcd1",
   "metadata": {},
   "source": [
    "### LLMs"
   ]
  },
  {
   "cell_type": "code",
   "execution_count": 3,
   "id": "2720b094",
   "metadata": {},
   "outputs": [],
   "source": [
    "# LLMs\n",
    "llm_google = ChatGoogleGenerativeAI(model='gemini-2.5-flash-lite')\n",
    "llm_groq = ChatGroq(model='llama3-8b-8192')\n",
    "\n",
    "llm = llm_google # Set default llm"
   ]
  },
  {
   "cell_type": "markdown",
   "id": "104a0ffc",
   "metadata": {},
   "source": [
    "### TOOLS"
   ]
  },
  {
   "cell_type": "code",
   "execution_count": 4,
   "id": "6a3921e4",
   "metadata": {},
   "outputs": [
    {
     "data": {
      "text/plain": [
       "{'query': 'Agentic AI for beginners',\n",
       " 'follow_up_questions': None,\n",
       " 'answer': None,\n",
       " 'images': [],\n",
       " 'results': [{'url': 'https://learn.microsoft.com/en-us/shows/ai-agents-for-beginners/',\n",
       "   'title': 'AI Agents for Beginners | Microsoft Learn',\n",
       "   'content': 'Read in English # AI Agents for Beginners * English In this 10-lesson course we take you from concept to code while covering the fundamentals of building AI agents. * AI Agents for Beginners * AI Agents for Beginners What are AI agents? (Part 1 of 10) | AI Agents for Beginners + Beginner + Beginner + Beginner (Part 4 of 10) | AI Agents for Beginners (Part 5 of 10) | AI Agents for Beginners + Beginner + Beginner (Part 7 of 10) | AI Agents for Beginners + Beginner How can AI agents improve? (Part 9 of 10) | AI Agents for Beginners + Beginner How to deploy AI agents into production (Part 10 of 10) | AI Agents for Beginners + Beginner',\n",
       "   'score': 0.98594,\n",
       "   'raw_content': None},\n",
       "  {'url': 'https://www.freecodecamp.org/news/the-agentic-ai-handbook/',\n",
       "   'title': \"The Agentic AI Handbook: A Beginner's Guide to Autonomous ...\",\n",
       "   'content': 'Agentic AI systems solve complex, multi-step problems autonomously by using sophisticated reasoning and iterative planning.',\n",
       "   'score': 0.98243,\n",
       "   'raw_content': None}],\n",
       " 'response_time': 1.23,\n",
       " 'request_id': 'ecb97209-4435-4cfa-a3d8-62fb5d97e39d'}"
      ]
     },
     "execution_count": 4,
     "metadata": {},
     "output_type": "execute_result"
    }
   ],
   "source": [
    "search_tool = TavilySearch(max_results=2)\n",
    "search_tool.invoke(\"Agentic AI for beginners\")"
   ]
  },
  {
   "cell_type": "code",
   "execution_count": 5,
   "id": "329b9a7a",
   "metadata": {},
   "outputs": [],
   "source": [
    "# Tool creation using a custom function\n",
    "def calculate_bill_split(total_bill: float, num_people: int, tip_percentage: int) -> float:\n",
    "    \"\"\"\n",
    "    Calculates the split amount for each person in the bill including the tip.\n",
    "    \n",
    "    Args:\n",
    "        total_bill (float): The total bill amount.\n",
    "        num_people (int): The number of people sharing the bill.\n",
    "        tip_percentage (int): The tip percentage to be added to the bill.\n",
    "    \n",
    "    Returns:\n",
    "        float: The amount each person needs to pay.\n",
    "        \n",
    "    \"\"\"\n",
    "    if num_people == 0:\n",
    "        return 0.0\n",
    "    total_with_tip = total_bill + (total_bill * tip_percentage / 100)\n",
    "    return total_with_tip / num_people  "
   ]
  },
  {
   "cell_type": "code",
   "execution_count": 6,
   "id": "c2ad61a7",
   "metadata": {},
   "outputs": [],
   "source": [
    "tools = [search_tool, calculate_bill_split]"
   ]
  },
  {
   "cell_type": "code",
   "execution_count": 7,
   "id": "f8dc54b1",
   "metadata": {},
   "outputs": [],
   "source": [
    "# binding llm with tools\n",
    "llm_with_tools = llm.bind_tools(tools)"
   ]
  },
  {
   "cell_type": "markdown",
   "id": "933cd84d",
   "metadata": {},
   "source": [
    "### GRAPH\n",
    "\n",
    "Changes: \n",
    "-The edge from tools to END will instead go back from tools to the tool_calling_llm\n"
   ]
  },
  {
   "cell_type": "code",
   "execution_count": 8,
   "id": "ee12be4c",
   "metadata": {},
   "outputs": [],
   "source": [
    "def tool_calling_llm(state: State):\n",
    "    return {\"messages\": [llm_with_tools.invoke(state['messages'])]}"
   ]
  },
  {
   "cell_type": "code",
   "execution_count": 9,
   "id": "d47a2f66",
   "metadata": {},
   "outputs": [],
   "source": [
    "'''\n",
    "BUUILDING THE GRAPH\n",
    "'''\n",
    "graph_builder = StateGraph(State)\n",
    "\n",
    "# Nodes\n",
    "graph_builder.add_node(\"tool_call_llm\", tool_calling_llm)\n",
    "graph_builder.add_node(\"tools\", ToolNode(tools))\n",
    "\n",
    "# Edges\n",
    "graph_builder.add_edge(START, \"tool_call_llm\")\n",
    "graph_builder.add_conditional_edges(\n",
    "    \"tool_call_llm\",\n",
    "    tools_condition\n",
    "    \n",
    ")\n",
    "graph_builder.add_edge(\"tools\", \"tool_call_llm\") # Loop back to tool_call_llm after using a tool\n",
    "\n",
    "# Compile\n",
    "graph = graph_builder.compile()"
   ]
  },
  {
   "cell_type": "code",
   "execution_count": 18,
   "id": "b18c1404",
   "metadata": {},
   "outputs": [
    {
     "name": "stdout",
     "output_type": "stream",
     "text": [
      "Error displaying graph: Failed to reach https://mermaid.ink/ API while trying to render your graph. Status code: 502.\n",
      "\n",
      "To resolve this issue:\n",
      "1. Check your internet connection and try again\n",
      "2. Try with higher retry settings: `draw_mermaid_png(..., max_retries=5, retry_delay=2.0)`\n",
      "3. Use the Pyppeteer rendering method which will render your graph locally in a browser: `draw_mermaid_png(..., draw_method=MermaidDrawMethod.PYPPETEER)`\n"
     ]
    }
   ],
   "source": [
    "#visualize Graph\n",
    "def display_graph():\n",
    "    try:\n",
    "        display(Image(graph.get_graph().draw_mermaid_png()))\n",
    "    except Exception as e:\n",
    "        print(f\"Error displaying graph: {e}\")\n",
    "\n",
    "display_graph()\n"
   ]
  },
  {
   "cell_type": "markdown",
   "id": "5acf6345",
   "metadata": {},
   "source": [
    "### Execute"
   ]
  },
  {
   "cell_type": "code",
   "execution_count": 11,
   "id": "0a228cb7",
   "metadata": {},
   "outputs": [
    {
     "name": "stdout",
     "output_type": "stream",
     "text": [
      "Each person has to pay $15.52.\n",
      "\n",
      "Here are some recent innovations in AI:\n",
      "* Walmart is using AI to visually identify projects without packaging, which reduces the expense of training.\n",
      "* InformationWeek is covering recent news and expert commentary on AI innovations.\n"
     ]
    }
   ],
   "source": [
    "response = graph.invoke({\"messages\": \"How much do we have to split for our 53.98 USD bill if there are 4 of us and we want to tip 15%? Also, can you give me recent innovations in the field of AI?\"})\n",
    "print(response['messages'][-1].content)"
   ]
  }
 ],
 "metadata": {
  "kernelspec": {
   "display_name": ".venv",
   "language": "python",
   "name": "python3"
  },
  "language_info": {
   "codemirror_mode": {
    "name": "ipython",
    "version": 3
   },
   "file_extension": ".py",
   "mimetype": "text/x-python",
   "name": "python",
   "nbconvert_exporter": "python",
   "pygments_lexer": "ipython3",
   "version": "3.13.5"
  }
 },
 "nbformat": 4,
 "nbformat_minor": 5
}
